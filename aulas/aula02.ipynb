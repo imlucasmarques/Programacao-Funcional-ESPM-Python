{
 "cells": [
  {
   "cell_type": "markdown",
   "metadata": {},
   "source": [
    "# Lista"
   ]
  },
  {
   "cell_type": "code",
   "execution_count": 29,
   "metadata": {},
   "outputs": [
    {
     "name": "stdout",
     "output_type": "stream",
     "text": [
      "[1, 5]\n",
      "[1, 2, 'Ana', 'Bia']\n",
      "[1, 2, 'Ana', 'Bia', 'André', [3.12122, 'Cauê']]\n",
      "[1, 2, 'Ana', 'Bia', 'André', [3.12122, 'Cauê'], 'Luiz']\n",
      "Bia\n",
      "Cauê\n",
      "u\n",
      "[1, 2, 'Insardi', 'Ana', 'Bia', 'André', [3.12122, 'Cauê'], 'Luiz']\n",
      "[1, 2, 'Ana', 'Bia', 'André', [3.12122, 'Cauê'], 'Luiz']\n"
     ]
    }
   ],
   "source": [
    "lista = [] ## Cria uma lista\n",
    "type(lista) ## Ver o tipo\n",
    "dir(lista) ## Mostrar funções da lista\n",
    "lista.append(1); ## Adiciona o número 1 no final da lista\n",
    "lista.append(5) ## Adiciona o número 5 no final da lista\n",
    "print(lista) ## Imprime a lista\n",
    "\n",
    "nova_lista = [1, 2, \"Ana\", \"Bia\"] ## Cria uma nova lista com tipos variáveis de dados\n",
    "print(nova_lista) ## Imprime a lista\n",
    "nova_lista.append(\"André\") ## Adiciona o nome André na lista\n",
    "nova_lista.append([3.12122, \"Cauê\"]) ## Adiciona outra lista dentro com o número 3.12122 e o nome Cauê\n",
    "print(nova_lista) ## Imprime a lista\n",
    "nova_lista.append(\"Luiz\") ## Adiciona o nome Luiz a lista\n",
    "print(nova_lista) ## Imprime a lista\n",
    "print(nova_lista[3]) ## Imprime a terceira posição da lista, partindo do 0\n",
    "print(nova_lista[5][1]) ## Pega a quinta posição da lista, partindo do 0, e imprime a 1 posição da lista interna\n",
    "print(nova_lista[5][1][1:4][1]) ## Pega a 1 posição da lista que está dentro, e pega do 1 caracter até o 4 e depois a 1 posição do caractere\n",
    "\n",
    "nova_lista.index(\"Luiz\") ## Pega a posição de algo na lista\n",
    "nova_lista.insert(2, \"Insardi\") ## Adiciona algo em uma certa posição\n",
    "print(nova_lista) ## Imprime a lista\n",
    "nova_lista.remove(\"Insardi\") ## Remove algo da lista\n",
    "print(nova_lista) ## Imprime a lista\n"
   ]
  },
  {
   "cell_type": "markdown",
   "metadata": {},
   "source": [
    "# Tupla"
   ]
  },
  {
   "cell_type": "code",
   "execution_count": 32,
   "metadata": {},
   "outputs": [
    {
     "name": "stdout",
     "output_type": "stream",
     "text": [
      "Amarelo\n"
     ]
    }
   ],
   "source": [
    "cores = (\"Amarelo\", \"Vermelho\", \"Azul\", \"Rosa\") ## Cria uma tupla de cores\n",
    "print(cores[0]) ## Imprime a posição 0"
   ]
  },
  {
   "cell_type": "markdown",
   "metadata": {},
   "source": [
    "# Dicionário"
   ]
  },
  {
   "cell_type": "code",
   "execution_count": 45,
   "metadata": {},
   "outputs": [
    {
     "name": "stdout",
     "output_type": "stream",
     "text": [
      "{'nome': 'Prof. André', 'idade': 38, 'cursos': ['Programação Funcional', 'Projeto Interdiciplinar']}\n",
      "Prof. André\n",
      "38\n",
      "['Programação Funcional', 'Projeto Interdiciplinar']\n",
      "Projeto Interdiciplinar\n",
      "{'nome': 'Prof. André', 'idade': 40, 'cursos': ['Programação Funcional', 'Projeto Interdiciplinar'], 'sexo': 'M'}\n",
      "{'nome': 'Prof. André', 'idade': 25, 'cursos': ['Programação Funcional', 'Projeto Interdiciplinar'], 'sexo': 'M'}\n",
      "{'nome': 'Prof. André', 'idade': 25, 'cursos': ['Programação Funcional', 'Projeto Interdiciplinar', 'Python'], 'sexo': 'M'}\n",
      "25\n",
      "None\n"
     ]
    }
   ],
   "source": [
    "pessoa = {'nome': 'Prof. André', 'idade': 38, 'cursos': ['Programação Funcional', 'Projeto Interdiciplinar']} ## Cria um dicionário\n",
    "type(pessoa) ## Pega o tipo do elemento\n",
    "\n",
    "print(pessoa) ## Imprime o dicionário\n",
    "print(pessoa[\"nome\"]) ## Imrime o campo nome\n",
    "print(pessoa['idade']) ## Imprime o campo idade\n",
    "print(pessoa['cursos']) ## Imprime o campo cursos\n",
    "\n",
    "print(pessoa['cursos'][1]) ## Imprime a 1º posição do campo cursos\n",
    "pessoa.update({'idade': 40, 'sexo': 'M'}) ## Atuailiza o campo idade e cria o campo sexo\n",
    "print(pessoa) ## Imprime o dicionário\n",
    "\n",
    "pessoa['idade'] = 25 ## Atualiza o campo idade\n",
    "print(pessoa) ## Imprime o dicionário\n",
    "\n",
    "pessoa['cursos'].append(\"Python\") ## Adiciona Python a lista de cursos dentro do dicionário\n",
    "print(pessoa) ## Imprime o dicionário\n",
    "\n",
    "print(pessoa.get('idade')) ## Pega e imprime um certo campo\n",
    "print(pessoa.get('tag')) ## Pega e imprime o campo tag, que não existe\n",
    "\n",
    "\n"
   ]
  },
  {
   "cell_type": "markdown",
   "metadata": {},
   "source": [
    "# IF ELSE"
   ]
  },
  {
   "cell_type": "code",
   "execution_count": 52,
   "metadata": {},
   "outputs": [
    {
     "name": "stdout",
     "output_type": "stream",
     "text": [
      "Diferentes\n"
     ]
    }
   ],
   "source": [
    "a = 3\n",
    "b = 3\n",
    "\n",
    "if a != b and a > 2:\n",
    "    print(\"Iguais\")\n",
    "else:\n",
    "    print(\"Diferentes\")"
   ]
  },
  {
   "cell_type": "code",
   "execution_count": 60,
   "metadata": {},
   "outputs": [
    {
     "name": "stdout",
     "output_type": "stream",
     "text": [
      "A\n"
     ]
    }
   ],
   "source": [
    "nota = 9.3\n",
    "\n",
    "if nota >= 9:\n",
    "    print(\"A\")\n",
    "elif nota >= 8:\n",
    "    print(\"B\")\n",
    "elif nota >= 7:\n",
    "    print(\"C\")\n",
    "else:\n",
    "    print(\"D\")"
   ]
  },
  {
   "cell_type": "markdown",
   "metadata": {},
   "source": [
    "# Loop\n"
   ]
  },
  {
   "cell_type": "code",
   "execution_count": 64,
   "metadata": {},
   "outputs": [
    {
     "name": "stdout",
     "output_type": "stream",
     "text": [
      "i = 1\n",
      "i = 2\n",
      "i = 3\n",
      "i = 4\n",
      "i = 5\n",
      "i = 6\n",
      "i = 7\n",
      "i = 8\n",
      "i = 9\n",
      "i = 10\n"
     ]
    }
   ],
   "source": [
    "for i in range(1, 11):\n",
    "    print('i = {}'.format(i))"
   ]
  },
  {
   "cell_type": "code",
   "execution_count": 67,
   "metadata": {},
   "outputs": [
    {
     "name": "stdout",
     "output_type": "stream",
     "text": [
      "Tabuada do 1:\n",
      "1 x 1 = 1\n",
      "2 x 1 = 2\n",
      "3 x 1 = 3\n",
      "4 x 1 = 4\n",
      "5 x 1 = 5\n",
      "6 x 1 = 6\n",
      "7 x 1 = 7\n",
      "8 x 1 = 8\n",
      "9 x 1 = 9\n",
      "10 x 1 = 10\n",
      "\n",
      "Tabuada do 2:\n",
      "1 x 2 = 2\n",
      "2 x 2 = 4\n",
      "3 x 2 = 6\n",
      "4 x 2 = 8\n",
      "5 x 2 = 10\n",
      "6 x 2 = 12\n",
      "7 x 2 = 14\n",
      "8 x 2 = 16\n",
      "9 x 2 = 18\n",
      "10 x 2 = 20\n",
      "\n",
      "Tabuada do 3:\n",
      "1 x 3 = 3\n",
      "2 x 3 = 6\n",
      "3 x 3 = 9\n",
      "4 x 3 = 12\n",
      "5 x 3 = 15\n",
      "6 x 3 = 18\n",
      "7 x 3 = 21\n",
      "8 x 3 = 24\n",
      "9 x 3 = 27\n",
      "10 x 3 = 30\n",
      "\n",
      "Tabuada do 4:\n",
      "1 x 4 = 4\n",
      "2 x 4 = 8\n",
      "3 x 4 = 12\n",
      "4 x 4 = 16\n",
      "5 x 4 = 20\n",
      "6 x 4 = 24\n",
      "7 x 4 = 28\n",
      "8 x 4 = 32\n",
      "9 x 4 = 36\n",
      "10 x 4 = 40\n",
      "\n",
      "Tabuada do 5:\n",
      "1 x 5 = 5\n",
      "2 x 5 = 10\n",
      "3 x 5 = 15\n",
      "4 x 5 = 20\n",
      "5 x 5 = 25\n",
      "6 x 5 = 30\n",
      "7 x 5 = 35\n",
      "8 x 5 = 40\n",
      "9 x 5 = 45\n",
      "10 x 5 = 50\n",
      "\n",
      "Tabuada do 6:\n",
      "1 x 6 = 6\n",
      "2 x 6 = 12\n",
      "3 x 6 = 18\n",
      "4 x 6 = 24\n",
      "5 x 6 = 30\n",
      "6 x 6 = 36\n",
      "7 x 6 = 42\n",
      "8 x 6 = 48\n",
      "9 x 6 = 54\n",
      "10 x 6 = 60\n",
      "\n",
      "Tabuada do 7:\n",
      "1 x 7 = 7\n",
      "2 x 7 = 14\n",
      "3 x 7 = 21\n",
      "4 x 7 = 28\n",
      "5 x 7 = 35\n",
      "6 x 7 = 42\n",
      "7 x 7 = 49\n",
      "8 x 7 = 56\n",
      "9 x 7 = 63\n",
      "10 x 7 = 70\n",
      "\n",
      "Tabuada do 8:\n",
      "1 x 8 = 8\n",
      "2 x 8 = 16\n",
      "3 x 8 = 24\n",
      "4 x 8 = 32\n",
      "5 x 8 = 40\n",
      "6 x 8 = 48\n",
      "7 x 8 = 56\n",
      "8 x 8 = 64\n",
      "9 x 8 = 72\n",
      "10 x 8 = 80\n",
      "\n",
      "Tabuada do 9:\n",
      "1 x 9 = 9\n",
      "2 x 9 = 18\n",
      "3 x 9 = 27\n",
      "4 x 9 = 36\n",
      "5 x 9 = 45\n",
      "6 x 9 = 54\n",
      "7 x 9 = 63\n",
      "8 x 9 = 72\n",
      "9 x 9 = 81\n",
      "10 x 9 = 90\n",
      "\n",
      "Tabuada do 10:\n",
      "1 x 10 = 10\n",
      "2 x 10 = 20\n",
      "3 x 10 = 30\n",
      "4 x 10 = 40\n",
      "5 x 10 = 50\n",
      "6 x 10 = 60\n",
      "7 x 10 = 70\n",
      "8 x 10 = 80\n",
      "9 x 10 = 90\n",
      "10 x 10 = 100\n",
      "\n"
     ]
    }
   ],
   "source": [
    "for i in range(1, 11):\n",
    "    print(\"Tabuada do {}:\".format(i))\n",
    "    for j in range(1,11):\n",
    "        print(\"{} x {} = {}\".format(j, i, i*j))\n",
    "    print(\"\")"
   ]
  },
  {
   "cell_type": "code",
   "execution_count": 71,
   "metadata": {},
   "outputs": [
    {
     "name": "stdout",
     "output_type": "stream",
     "text": [
      "Nome: André\n",
      "Idade: 38\n",
      "Cursos:\n",
      " - Programação Funcional\n",
      " - Projeto Interdiciplinar\n",
      "\n",
      "Nome: Carlos\n",
      "Idade: 28\n",
      "Cursos:\n",
      " - Programação Web\n",
      " - Laboratório Experimental\n",
      "\n",
      "Nome: Jorge\n",
      "Idade: 41\n",
      "Cursos:\n",
      " - Database Essentials\n",
      " - Dataviz\n",
      "\n",
      "Nome: Antônio\n",
      "Idade: 35\n",
      "Cursos:\n",
      " - Estrutura de Dados\n",
      " - Algoritmos\n",
      "\n"
     ]
    }
   ],
   "source": [
    "pessoa1 = {'nome': 'André', 'idade': 38, 'cursos': ['Programação Funcional', 'Projeto Interdiciplinar']} \n",
    "pessoa2 = {'nome': 'Carlos', 'idade': 28, 'cursos': ['Programação Web', 'Laboratório Experimental']} \n",
    "pessoa3 = {'nome': 'Jorge', 'idade': 41, 'cursos': ['Database Essentials', 'Dataviz']} \n",
    "pessoa4 = {'nome': 'Antônio', 'idade': 35, 'cursos': ['Estrutura de Dados', 'Algoritmos']}\n",
    "\n",
    "lista_pessoas = [pessoa1, pessoa2, pessoa3, pessoa4]\n",
    "\n",
    "for pessoa in lista_pessoas:\n",
    "    print(F\"Nome: {pessoa['nome']}\")\n",
    "    print(F\"Idade: {pessoa['idade']}\")\n",
    "    print(F\"Cursos:\")\n",
    "    for cursos in pessoa['cursos']:\n",
    "        print(F\" - {cursos}\")\n",
    "    print(\"\")"
   ]
  }
 ],
 "metadata": {
  "kernelspec": {
   "display_name": "Python 3",
   "language": "python",
   "name": "python3"
  },
  "language_info": {
   "codemirror_mode": {
    "name": "ipython",
    "version": 3
   },
   "file_extension": ".py",
   "mimetype": "text/x-python",
   "name": "python",
   "nbconvert_exporter": "python",
   "pygments_lexer": "ipython3",
   "version": "3.10.11"
  },
  "orig_nbformat": 4
 },
 "nbformat": 4,
 "nbformat_minor": 2
}
