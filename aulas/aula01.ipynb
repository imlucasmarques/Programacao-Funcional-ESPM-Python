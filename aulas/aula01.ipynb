{
 "cells": [
  {
   "cell_type": "code",
   "execution_count": 2,
   "metadata": {},
   "outputs": [
    {
     "name": "stdout",
     "output_type": "stream",
     "text": [
      "Hello World!\n"
     ]
    }
   ],
   "source": [
    "print(\"Hello World!\")"
   ]
  },
  {
   "cell_type": "markdown",
   "metadata": {},
   "source": [
    "# Tipos Básicos & Exibição de Dados #"
   ]
  },
  {
   "cell_type": "code",
   "execution_count": 8,
   "metadata": {},
   "outputs": [
    {
     "name": "stdout",
     "output_type": "stream",
     "text": [
      "True\n",
      "False\n",
      "2.2\n",
      "Aqui eu falo na minha lingua!\n",
      "Também funciona.\n",
      "Você é muito muito muito legal!\n",
      "[1, 2, 3]\n",
      "{'nome': 'Pedro', 'idade': 22}\n",
      "0\n",
      "\n",
      "None\n"
     ]
    }
   ],
   "source": [
    "print(True)\n",
    "print(False)\n",
    "print(1.2 + 1)\n",
    "print('Aqui eu falo na minha lingua!')\n",
    "print(\"Também funciona.\")\n",
    "print('Você é ' + 3 * 'muito ' + 'legal!')\n",
    "print([1, 2, 3])\n",
    "print({'nome': 'Pedro', 'idade': 22})\n",
    "print(0)\n",
    "print(\"\")\n",
    "print(None)"
   ]
  },
  {
   "cell_type": "code",
   "execution_count": 10,
   "metadata": {},
   "outputs": [
    {
     "name": "stdout",
     "output_type": "stream",
     "text": [
      "<class 'int'>\n",
      "<class 'float'>\n",
      "<class 'str'>\n"
     ]
    }
   ],
   "source": [
    "a = 10\n",
    "#b = 5.2\n",
    "\n",
    "print(type(a))\n",
    "#print(type(b)) \n",
    "\n",
    "a = 5.2\n",
    "print(type(a))\n",
    "\n",
    "a = 'Agora sou uma string!'\n",
    "print(type(a))"
   ]
  },
  {
   "cell_type": "markdown",
   "metadata": {},
   "source": [
    "# Manipulação de String\n"
   ]
  },
  {
   "cell_type": "code",
   "execution_count": 31,
   "metadata": {},
   "outputs": [
    {
     "name": "stdout",
     "output_type": "stream",
     "text": [
      "Texto com múltiplas\n",
      "... linhas\n"
     ]
    }
   ],
   "source": [
    "dir(str)\n",
    "\n",
    "nome = 'Cauê Bucci'\n",
    "\n",
    "nome\n",
    "\n",
    "'Cauê Bucci' == \"Cauê Bucci\"\n",
    "\n",
    "texto = 'Texto entre apostrófos pode ter \"aspas\"'\n",
    "texto\n",
    "\n",
    "doc = \"\"\"Texto com múltiplas\n",
    "... linhas\"\"\"\n",
    "print(doc)"
   ]
  },
  {
   "cell_type": "code",
   "execution_count": 57,
   "metadata": {},
   "outputs": [
    {
     "data": {
      "text/plain": [
       "'08642'"
      ]
     },
     "execution_count": 57,
     "metadata": {},
     "output_type": "execute_result"
    }
   ],
   "source": [
    "nome = \"Um nome qualquer\"\n",
    "\n",
    "nome[0]\n",
    "nome[6]\n",
    "nome[-3]\n",
    "nome[4:]\n",
    "nome[-5:]\n",
    "nome[:3]\n",
    "nome[2:5]\n",
    "\n",
    "numeros = \"1234567890\"\n",
    "numeros[::]\n",
    "numeros[::2]\n",
    "numeros[1::2]\n",
    "numeros[::-1]\n",
    "numeros[::-2]"
   ]
  },
  {
   "cell_type": "code",
   "execution_count": 63,
   "metadata": {},
   "outputs": [
    {
     "data": {
      "text/plain": [
       "['Python é uma linguag', 'm ', 'xc', 'l', 'nt', '']"
      ]
     },
     "execution_count": 63,
     "metadata": {},
     "output_type": "execute_result"
    }
   ],
   "source": [
    "frase = \"Python é uma linguagem excelente\"\n",
    "\"py\" in frase\n",
    "\"ing\" in frase\n",
    "\"zzz\" in frase\n",
    "\n",
    "len(frase)\n",
    "frase.lower()\n",
    "frase.upper()\n",
    "\n",
    "frase.split()\n",
    "frase.split(\"e\")"
   ]
  },
  {
   "cell_type": "markdown",
   "metadata": {},
   "source": [
    "# Operadores Aritméticos"
   ]
  },
  {
   "cell_type": "code",
   "execution_count": 76,
   "metadata": {},
   "outputs": [
    {
     "name": "stdout",
     "output_type": "stream",
     "text": [
      "5\n",
      "-3\n",
      "10.6\n",
      "3.1333333333333333\n",
      "3\n",
      "1\n",
      "256\n",
      "9\n",
      "3.0\n"
     ]
    }
   ],
   "source": [
    "print(2 + 3)\n",
    "print(4 - 7)\n",
    "print(2 * 5.3)\n",
    "print(9.4 / 3)\n",
    "print(10 // 3)\n",
    "print(10 % 3)\n",
    "print(2 ** 8)\n",
    "print(3 ** 2)\n",
    "print(9 ** (1/2))\n"
   ]
  }
 ],
 "metadata": {
  "kernelspec": {
   "display_name": "Python 3",
   "language": "python",
   "name": "python3"
  },
  "language_info": {
   "codemirror_mode": {
    "name": "ipython",
    "version": 3
   },
   "file_extension": ".py",
   "mimetype": "text/x-python",
   "name": "python",
   "nbconvert_exporter": "python",
   "pygments_lexer": "ipython3",
   "version": "3.10.11"
  },
  "orig_nbformat": 4
 },
 "nbformat": 4,
 "nbformat_minor": 2
}
